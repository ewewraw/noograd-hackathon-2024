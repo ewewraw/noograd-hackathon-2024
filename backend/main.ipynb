{
 "cells": [
  {
   "cell_type": "code",
   "execution_count": 5,
   "metadata": {},
   "outputs": [],
   "source": [
    "emails = [\n",
    "            {\n",
    "                \"email_id\": \"1\",\n",
    "                \"sender\": \"sender1@example.com\",\n",
    "                \"recipient\": \"recipient1@example.com\",\n",
    "                \"subject\": \"This email is VERY Important 1\",\n",
    "                \"content\": \"Content of email 1\"\n",
    "            },\n",
    "            {\n",
    "                \"email_id\": \"2\",\n",
    "                \"sender\": \"sender2@example.com\",\n",
    "                \"recipient\": \"recipient2@example.com\",\n",
    "                \"subject\": \"This email is not important at all\",\n",
    "                \"content\": \"Content of email 2\"\n",
    "            },\n",
    "            {\n",
    "                \"email_id\": \"3\",\n",
    "                \"sender\": \"sender3@example.com\",\n",
    "                \"recipient\": \"recipient3@example.com\",\n",
    "                \"subject\": \"This email is mildly important\",\n",
    "                \"content\": \"Content of email 3\"\n",
    "            }\n",
    "        ]"
   ]
  },
  {
   "cell_type": "code",
   "execution_count": 14,
   "metadata": {},
   "outputs": [],
   "source": [
    "import google.generativeai as genai\n",
    "import typing_extensions as typing\n",
    "import json\n",
    "\n",
    "from src.config import GEMINI_API_KEY\n",
    "from src.models.models import Email, EmailIds\n",
    "\n",
    "genai.configure(api_key=GEMINI_API_KEY)\n",
    "model = genai.GenerativeModel('gemini-1.5-pro-latest')\n",
    "\n",
    "# Construct the prompt\n",
    "email_data = [{\"email_id\": email[\"email_id\"], \"subject\": email[\"subject\"], \"content\": email[\"content\"], \"sender\": email[\"sender\"], \"recipient\": email[\"recipient\"]} for email in emails]\n",
    "prompt = f\"\"\"Here is a list of emails with their subject, content, sender, and recipient: {email_data}. \n",
    "Sort these emails based on their importance and return the sorted list of email IDs using valid JSON.\"\"\"\n",
    "\n",
    "#print(prompt)\n",
    "# Call the API\n",
    "response = model.generate_content(\n",
    "    prompt,\n",
    "    generation_config=genai.GenerationConfig(\n",
    "        response_mime_type=\"application/json\", response_schema= list[EmailIds]\n",
    "    )\n",
    ")"
   ]
  },
  {
   "cell_type": "code",
   "execution_count": 19,
   "metadata": {},
   "outputs": [
    {
     "name": "stdout",
     "output_type": "stream",
     "text": [
      "[{'email_id': '1'}, {'email_id': '3'}, {'email_id': '2'}]\n"
     ]
    }
   ],
   "source": [
    "try:\n",
    "    sorted_email_ids = json.loads(response.text)\n",
    "    # Assuming sorted_email_ids is now a list of email IDs\n",
    "    print(sorted_email_ids)\n",
    "except json.JSONDecodeError as e:\n",
    "    print(f\"Failed to parse JSON response: {e}\")"
   ]
  },
  {
   "cell_type": "code",
   "execution_count": 20,
   "metadata": {},
   "outputs": [
    {
     "data": {
      "text/plain": [
       "[{'email_id': '1'}, {'email_id': '3'}, {'email_id': '2'}]"
      ]
     },
     "execution_count": 20,
     "metadata": {},
     "output_type": "execute_result"
    }
   ],
   "source": [
    "sorted_email_ids"
   ]
  },
  {
   "cell_type": "code",
   "execution_count": 21,
   "metadata": {},
   "outputs": [
    {
     "data": {
      "text/plain": [
       "list"
      ]
     },
     "execution_count": 21,
     "metadata": {},
     "output_type": "execute_result"
    }
   ],
   "source": [
    "type(sorted_email_ids)"
   ]
  },
  {
   "cell_type": "code",
   "execution_count": 24,
   "metadata": {},
   "outputs": [
    {
     "name": "stdout",
     "output_type": "stream",
     "text": [
      "<class 'dict'>\n",
      "<class 'dict'>\n",
      "<class 'dict'>\n"
     ]
    }
   ],
   "source": [
    "for email in sorted_email_ids:\n",
    "    print(type(email))"
   ]
  },
  {
   "cell_type": "code",
   "execution_count": null,
   "metadata": {},
   "outputs": [],
   "source": []
  }
 ],
 "metadata": {
  "kernelspec": {
   "display_name": ".venv",
   "language": "python",
   "name": "python3"
  },
  "language_info": {
   "codemirror_mode": {
    "name": "ipython",
    "version": 3
   },
   "file_extension": ".py",
   "mimetype": "text/x-python",
   "name": "python",
   "nbconvert_exporter": "python",
   "pygments_lexer": "ipython3",
   "version": "3.10.13"
  }
 },
 "nbformat": 4,
 "nbformat_minor": 2
}
